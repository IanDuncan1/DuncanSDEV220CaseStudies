{
 "cells": [
  {
   "cell_type": "code",
   "execution_count": null,
   "id": "4739185d-fadb-499f-82f0-919b58122859",
   "metadata": {},
   "outputs": [],
   "source": [
    "import pandas as pd\n",
    "pd.\n",
    "df = pd.read_csv('telco_churn.csv')\n",
    "tempdict={'col1':[1,2,3], 'col2':[4,5,6], 'col3':[7,8,9]}\n",
    "dictdf = pd.DataFrame.from_dict(tempdict)\n",
    "df.head()\n",
    "dictdf.head()\n",
    "df.tail()\n",
    "df.columns\n",
    "df.dtypes()\n",
    "df.describe()\n",
    "df.describe(include='object')\n",
    "df.State\n",
    "df.['International plan']\n",
    "df[['State', 'International plan']]\n",
    "df.State.unique()\n",
    "df[df['International plan']=='No']\n",
    "df[(df['International plan']=='No')&(df['Churn']==False)]\n",
    "df.iloc[14]\n",
    "df.iloc[14,0]\n",
    "df.iloc[22:33]\n",
    "state=df.copy()\n",
    "state.set_index('State',inplace=True)\n",
    "state.head()\n",
    "state.loc[\"OH\"]\n",
    "df.isnull().sum()\n",
    "df.dropna(inplace=True)\n",
    "df.drop('Area code', axis=1)\n",
    "df['New Column']=df['Total night minutes']+df['Total intl minutes']\n",
    "df['New Column']=100\n",
    "df.iloc[0,-1]=10\n",
    "df['Churn Binary']=df['Churn'].apply(lambda x:1 if x==True else 0)\n",
    "df.to_csv('output.csv')\n",
    "df.to_json()\n",
    "df.to_html()\n",
    "del df\n"
   ]
  }
 ],
 "metadata": {
  "kernelspec": {
   "display_name": "Python 3 (ipykernel)",
   "language": "python",
   "name": "python3"
  },
  "language_info": {
   "codemirror_mode": {
    "name": "ipython",
    "version": 3
   },
   "file_extension": ".py",
   "mimetype": "text/x-python",
   "name": "python",
   "nbconvert_exporter": "python",
   "pygments_lexer": "ipython3",
   "version": "3.11.7"
  }
 },
 "nbformat": 4,
 "nbformat_minor": 5
}
